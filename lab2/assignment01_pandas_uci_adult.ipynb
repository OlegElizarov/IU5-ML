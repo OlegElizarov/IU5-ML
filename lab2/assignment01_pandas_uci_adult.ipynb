{
 "cells": [
  {
   "cell_type": "markdown",
   "metadata": {},
   "source": [
    "<center>\n",
    "<img src=\"../../img/ods_stickers.jpg\">\n",
    "    \n",
    "## [mlcourse.ai](https://mlcourse.ai) - Open Machine Learning Course\n",
    "\n",
    "Author: [Yury Kashnitsky](https://www.linkedin.com/in/festline/). Translated and edited by [Sergey Isaev](https://www.linkedin.com/in/isvforall/), [Artem Trunov](https://www.linkedin.com/in/datamove/), [Anastasia Manokhina](https://www.linkedin.com/in/anastasiamanokhina/), and [Yuanyuan Pao](https://www.linkedin.com/in/yuanyuanpao/). All content is distributed under the [Creative Commons CC BY-NC-SA 4.0](https://creativecommons.org/licenses/by-nc-sa/4.0/) license."
   ]
  },
  {
   "cell_type": "markdown",
   "metadata": {},
   "source": [
    "# <center> Assignment #1 (demo)\n",
    "## <center>  Exploratory data analysis with Pandas\n",
    "\n",
    "\n",
    "**Same assignment as a [Kaggle Kernel](https://www.kaggle.com/kashnitsky/a1-demo-pandas-and-uci-adult-dataset) + [solution](https://www.kaggle.com/kashnitsky/a1-demo-pandas-and-uci-adult-dataset-solution).**"
   ]
  },
  {
   "cell_type": "markdown",
   "metadata": {},
   "source": [
    "**In this task you should use Pandas to answer a few questions about the [Adult](https://archive.ics.uci.edu/ml/datasets/Adult) dataset. (You don't have to download the data – it's already  in the repository). Choose the answers in the [web-form](https://docs.google.com/forms/d/1uY7MpI2trKx6FLWZte0uVh3ULV4Cm_tDud0VDFGCOKg).**"
   ]
  },
  {
   "cell_type": "markdown",
   "metadata": {},
   "source": [
    "Unique values of all features (for more information, please see the links above):\n",
    "- `age`: continuous.\n",
    "- `workclass`: Private, Self-emp-not-inc, Self-emp-inc, Federal-gov, Local-gov, State-gov, Without-pay, Never-worked.\n",
    "- `fnlwgt`: continuous.\n",
    "- `education`: Bachelors, Some-college, 11th, HS-grad, Prof-school, Assoc-acdm, Assoc-voc, 9th, 7th-8th, 12th, Masters, 1st-4th, 10th, Doctorate, 5th-6th, Preschool.\n",
    "- `education-num`: continuous.\n",
    "- `marital-status`: Married-civ-spouse, Divorced, Never-married, Separated, Widowed, Married-spouse-absent, Married-AF-spouse.\n",
    "- `occupation`: Tech-support, Craft-repair, Other-service, Sales, Exec-managerial, Prof-specialty, Handlers-cleaners, Machine-op-inspct, Adm-clerical, Farming-fishing, Transport-moving, Priv-house-serv, Protective-serv, Armed-Forces.\n",
    "- `relationship`: Wife, Own-child, Husband, Not-in-family, Other-relative, Unmarried.\n",
    "- `race`: White, Asian-Pac-Islander, Amer-Indian-Eskimo, Other, Black.\n",
    "- `sex`: Female, Male.\n",
    "- `capital-gain`: continuous.\n",
    "- `capital-loss`: continuous.\n",
    "- `hours-per-week`: continuous.\n",
    "- `native-country`: United-States, Cambodia, England, Puerto-Rico, Canada, Germany, Outlying-US(Guam-USVI-etc), India, Japan, Greece, South, China, Cuba, Iran, Honduras, Philippines, Italy, Poland, Jamaica, Vietnam, Mexico, Portugal, Ireland, France, Dominican-Republic, Laos, Ecuador, Taiwan, Haiti, Columbia, Hungary, Guatemala, Nicaragua, Scotland, Thailand, Yugoslavia, El-Salvador, Trinadad&Tobago, Peru, Hong, Holand-Netherlands.   \n",
    "- `salary`: >50K,<=50K"
   ]
  },
  {
   "cell_type": "code",
   "execution_count": 1,
   "metadata": {},
   "outputs": [],
   "source": [
    "import numpy as np\n",
    "import pandas as pd\n",
    "pd.set_option('display.max.columns', 100)\n",
    "# to draw pictures in jupyter notebook\n",
    "%matplotlib inline \n",
    "import matplotlib.pyplot as plt\n",
    "import seaborn as sns\n",
    "# we don't like warnings\n",
    "# you can comment the following 2 lines if you'd like to\n",
    "import warnings\n",
    "warnings.filterwarnings('ignore')"
   ]
  },
  {
   "cell_type": "code",
   "execution_count": 4,
   "metadata": {},
   "outputs": [
    {
     "data": {
      "text/html": [
       "<div>\n",
       "<style scoped>\n",
       "    .dataframe tbody tr th:only-of-type {\n",
       "        vertical-align: middle;\n",
       "    }\n",
       "\n",
       "    .dataframe tbody tr th {\n",
       "        vertical-align: top;\n",
       "    }\n",
       "\n",
       "    .dataframe thead th {\n",
       "        text-align: right;\n",
       "    }\n",
       "</style>\n",
       "<table border=\"1\" class=\"dataframe\">\n",
       "  <thead>\n",
       "    <tr style=\"text-align: right;\">\n",
       "      <th></th>\n",
       "      <th>age</th>\n",
       "      <th>workclass</th>\n",
       "      <th>fnlwgt</th>\n",
       "      <th>education</th>\n",
       "      <th>education-num</th>\n",
       "      <th>marital-status</th>\n",
       "      <th>occupation</th>\n",
       "      <th>relationship</th>\n",
       "      <th>race</th>\n",
       "      <th>sex</th>\n",
       "      <th>capital-gain</th>\n",
       "      <th>capital-loss</th>\n",
       "      <th>hours-per-week</th>\n",
       "      <th>native-country</th>\n",
       "      <th>salary</th>\n",
       "    </tr>\n",
       "  </thead>\n",
       "  <tbody>\n",
       "    <tr>\n",
       "      <th>0</th>\n",
       "      <td>39</td>\n",
       "      <td>State-gov</td>\n",
       "      <td>77516</td>\n",
       "      <td>Bachelors</td>\n",
       "      <td>13</td>\n",
       "      <td>Never-married</td>\n",
       "      <td>Adm-clerical</td>\n",
       "      <td>Not-in-family</td>\n",
       "      <td>White</td>\n",
       "      <td>Male</td>\n",
       "      <td>2174</td>\n",
       "      <td>0</td>\n",
       "      <td>40</td>\n",
       "      <td>United-States</td>\n",
       "      <td>&lt;=50K</td>\n",
       "    </tr>\n",
       "    <tr>\n",
       "      <th>1</th>\n",
       "      <td>50</td>\n",
       "      <td>Self-emp-not-inc</td>\n",
       "      <td>83311</td>\n",
       "      <td>Bachelors</td>\n",
       "      <td>13</td>\n",
       "      <td>Married-civ-spouse</td>\n",
       "      <td>Exec-managerial</td>\n",
       "      <td>Husband</td>\n",
       "      <td>White</td>\n",
       "      <td>Male</td>\n",
       "      <td>0</td>\n",
       "      <td>0</td>\n",
       "      <td>13</td>\n",
       "      <td>United-States</td>\n",
       "      <td>&lt;=50K</td>\n",
       "    </tr>\n",
       "    <tr>\n",
       "      <th>2</th>\n",
       "      <td>38</td>\n",
       "      <td>Private</td>\n",
       "      <td>215646</td>\n",
       "      <td>HS-grad</td>\n",
       "      <td>9</td>\n",
       "      <td>Divorced</td>\n",
       "      <td>Handlers-cleaners</td>\n",
       "      <td>Not-in-family</td>\n",
       "      <td>White</td>\n",
       "      <td>Male</td>\n",
       "      <td>0</td>\n",
       "      <td>0</td>\n",
       "      <td>40</td>\n",
       "      <td>United-States</td>\n",
       "      <td>&lt;=50K</td>\n",
       "    </tr>\n",
       "    <tr>\n",
       "      <th>3</th>\n",
       "      <td>53</td>\n",
       "      <td>Private</td>\n",
       "      <td>234721</td>\n",
       "      <td>11th</td>\n",
       "      <td>7</td>\n",
       "      <td>Married-civ-spouse</td>\n",
       "      <td>Handlers-cleaners</td>\n",
       "      <td>Husband</td>\n",
       "      <td>Black</td>\n",
       "      <td>Male</td>\n",
       "      <td>0</td>\n",
       "      <td>0</td>\n",
       "      <td>40</td>\n",
       "      <td>United-States</td>\n",
       "      <td>&lt;=50K</td>\n",
       "    </tr>\n",
       "    <tr>\n",
       "      <th>4</th>\n",
       "      <td>28</td>\n",
       "      <td>Private</td>\n",
       "      <td>338409</td>\n",
       "      <td>Bachelors</td>\n",
       "      <td>13</td>\n",
       "      <td>Married-civ-spouse</td>\n",
       "      <td>Prof-specialty</td>\n",
       "      <td>Wife</td>\n",
       "      <td>Black</td>\n",
       "      <td>Female</td>\n",
       "      <td>0</td>\n",
       "      <td>0</td>\n",
       "      <td>40</td>\n",
       "      <td>Cuba</td>\n",
       "      <td>&lt;=50K</td>\n",
       "    </tr>\n",
       "  </tbody>\n",
       "</table>\n",
       "</div>"
      ],
      "text/plain": [
       "   age         workclass  fnlwgt  education  education-num  \\\n",
       "0   39         State-gov   77516  Bachelors             13   \n",
       "1   50  Self-emp-not-inc   83311  Bachelors             13   \n",
       "2   38           Private  215646    HS-grad              9   \n",
       "3   53           Private  234721       11th              7   \n",
       "4   28           Private  338409  Bachelors             13   \n",
       "\n",
       "       marital-status         occupation   relationship   race     sex  \\\n",
       "0       Never-married       Adm-clerical  Not-in-family  White    Male   \n",
       "1  Married-civ-spouse    Exec-managerial        Husband  White    Male   \n",
       "2            Divorced  Handlers-cleaners  Not-in-family  White    Male   \n",
       "3  Married-civ-spouse  Handlers-cleaners        Husband  Black    Male   \n",
       "4  Married-civ-spouse     Prof-specialty           Wife  Black  Female   \n",
       "\n",
       "   capital-gain  capital-loss  hours-per-week native-country salary  \n",
       "0          2174             0              40  United-States  <=50K  \n",
       "1             0             0              13  United-States  <=50K  \n",
       "2             0             0              40  United-States  <=50K  \n",
       "3             0             0              40  United-States  <=50K  \n",
       "4             0             0              40           Cuba  <=50K  "
      ]
     },
     "execution_count": 4,
     "metadata": {},
     "output_type": "execute_result"
    }
   ],
   "source": [
    "data = pd.read_csv('./adult.data.csv')\n",
    "data.head()"
   ]
  },
  {
   "cell_type": "markdown",
   "metadata": {},
   "source": [
    "**1. How many men and women (*sex* feature) are represented in this dataset?** "
   ]
  },
  {
   "cell_type": "code",
   "execution_count": 105,
   "metadata": {},
   "outputs": [
    {
     "data": {
      "text/plain": [
       "Male      21790\n",
       "Female    10771\n",
       "Name: sex, dtype: int64"
      ]
     },
     "execution_count": 105,
     "metadata": {},
     "output_type": "execute_result"
    }
   ],
   "source": [
    "data[\"sex\"].value_counts()"
   ]
  },
  {
   "cell_type": "markdown",
   "metadata": {},
   "source": [
    "**2. What is the average age (*age* feature) of women?**"
   ]
  },
  {
   "cell_type": "code",
   "execution_count": 30,
   "metadata": {},
   "outputs": [
    {
     "data": {
      "text/plain": [
       "age                   36.858230\n",
       "fnlwgt            185746.311206\n",
       "education-num         10.035744\n",
       "capital-gain         568.410547\n",
       "capital-loss          61.187633\n",
       "hours-per-week        36.410361\n",
       "dtype: float64"
      ]
     },
     "execution_count": 30,
     "metadata": {},
     "output_type": "execute_result"
    }
   ],
   "source": [
    "data.loc[data[\"sex\"]==\"Female\",'age'].mean()"
   ]
  },
  {
   "cell_type": "markdown",
   "metadata": {},
   "source": [
    "**3. What is the percentage of German citizens (*native-country* feature)?**"
   ]
  },
  {
   "cell_type": "code",
   "execution_count": 44,
   "metadata": {},
   "outputs": [
    {
     "data": {
      "text/plain": [
       "0.004207487485028101"
      ]
     },
     "execution_count": 44,
     "metadata": {},
     "output_type": "execute_result"
    }
   ],
   "source": [
    "float( (data['native-country']=='Germany').sum() ) / data.shape[0]"
   ]
  },
  {
   "cell_type": "markdown",
   "metadata": {},
   "source": [
    "**4-5. What are the mean and standard deviation of age for those who earn more than 50K per year (*salary* feature) and those who earn less than 50K per year? **"
   ]
  },
  {
   "cell_type": "code",
   "execution_count": 61,
   "metadata": {},
   "outputs": [
    {
     "name": "stdout",
     "output_type": "stream",
     "text": [
      "1: 37.0 +- 14.0\n",
      "2: 44.0 +- 11.0\n"
     ]
    }
   ],
   "source": [
    "res1=(data.groupby('salary')['age'].mean())\n",
    "\n",
    "res2=(data.groupby('salary')['age'].std())\n",
    "\n",
    "print(\"1:\",round(res1[0]),\"+-\",round(res2[0]))\n",
    "print(\"2:\",round(res1[1]),\"+-\",round(res2[1]))\n"
   ]
  },
  {
   "cell_type": "markdown",
   "metadata": {},
   "source": [
    "**6. Is it true that people who earn more than 50K have at least high school education? (*education – Bachelors, Prof-school, Assoc-acdm, Assoc-voc, Masters* or *Doctorate* feature)**"
   ]
  },
  {
   "cell_type": "code",
   "execution_count": 65,
   "metadata": {},
   "outputs": [
    {
     "data": {
      "text/plain": [
       "array(['HS-grad', 'Masters', 'Bachelors', 'Some-college', 'Assoc-voc',\n",
       "       'Doctorate', 'Prof-school', 'Assoc-acdm', '7th-8th', '12th',\n",
       "       '10th', '11th', '9th', '5th-6th', '1st-4th'], dtype=object)"
      ]
     },
     "execution_count": 65,
     "metadata": {},
     "output_type": "execute_result"
    }
   ],
   "source": [
    "data.loc[data[\"salary\"]=='>50K']['education'].unique()"
   ]
  },
  {
   "cell_type": "markdown",
   "metadata": {},
   "source": [
    "**7. Display age statistics for each race (*race* feature) and each gender (*sex* feature). Use *groupby()* and *describe()*. Find the maximum age of men of *Amer-Indian-Eskimo* race.**"
   ]
  },
  {
   "cell_type": "code",
   "execution_count": 80,
   "metadata": {},
   "outputs": [
    {
     "name": "stdout",
     "output_type": "stream",
     "text": [
      "Race: Amer-Indian-Eskimo, sex: Female\n",
      "count    119.000000\n",
      "mean      37.117647\n",
      "std       13.114991\n",
      "min       17.000000\n",
      "25%       27.000000\n",
      "50%       36.000000\n",
      "75%       46.000000\n",
      "max       80.000000\n",
      "Name: age, dtype: float64\n",
      "Race: Amer-Indian-Eskimo, sex: Male\n",
      "count    192.000000\n",
      "mean      37.208333\n",
      "std       12.049563\n",
      "min       17.000000\n",
      "25%       28.000000\n",
      "50%       35.000000\n",
      "75%       45.000000\n",
      "max       82.000000\n",
      "Name: age, dtype: float64\n",
      "Race: Asian-Pac-Islander, sex: Female\n",
      "count    346.000000\n",
      "mean      35.089595\n",
      "std       12.300845\n",
      "min       17.000000\n",
      "25%       25.000000\n",
      "50%       33.000000\n",
      "75%       43.750000\n",
      "max       75.000000\n",
      "Name: age, dtype: float64\n",
      "Race: Asian-Pac-Islander, sex: Male\n",
      "count    693.000000\n",
      "mean      39.073593\n",
      "std       12.883944\n",
      "min       18.000000\n",
      "25%       29.000000\n",
      "50%       37.000000\n",
      "75%       46.000000\n",
      "max       90.000000\n",
      "Name: age, dtype: float64\n",
      "Race: Black, sex: Female\n",
      "count    1555.000000\n",
      "mean       37.854019\n",
      "std        12.637197\n",
      "min        17.000000\n",
      "25%        28.000000\n",
      "50%        37.000000\n",
      "75%        46.000000\n",
      "max        90.000000\n",
      "Name: age, dtype: float64\n",
      "Race: Black, sex: Male\n",
      "count    1569.000000\n",
      "mean       37.682600\n",
      "std        12.882612\n",
      "min        17.000000\n",
      "25%        27.000000\n",
      "50%        36.000000\n",
      "75%        46.000000\n",
      "max        90.000000\n",
      "Name: age, dtype: float64\n",
      "Race: Other, sex: Female\n",
      "count    109.000000\n",
      "mean      31.678899\n",
      "std       11.631599\n",
      "min       17.000000\n",
      "25%       23.000000\n",
      "50%       29.000000\n",
      "75%       39.000000\n",
      "max       74.000000\n",
      "Name: age, dtype: float64\n",
      "Race: Other, sex: Male\n",
      "count    162.000000\n",
      "mean      34.654321\n",
      "std       11.355531\n",
      "min       17.000000\n",
      "25%       26.000000\n",
      "50%       32.000000\n",
      "75%       42.000000\n",
      "max       77.000000\n",
      "Name: age, dtype: float64\n",
      "Race: White, sex: Female\n",
      "count    8642.000000\n",
      "mean       36.811618\n",
      "std        14.329093\n",
      "min        17.000000\n",
      "25%        25.000000\n",
      "50%        35.000000\n",
      "75%        46.000000\n",
      "max        90.000000\n",
      "Name: age, dtype: float64\n",
      "Race: White, sex: Male\n",
      "count    19174.000000\n",
      "mean        39.652498\n",
      "std         13.436029\n",
      "min         17.000000\n",
      "25%         29.000000\n",
      "50%         38.000000\n",
      "75%         49.000000\n",
      "max         90.000000\n",
      "Name: age, dtype: float64\n"
     ]
    },
    {
     "data": {
      "text/plain": [
       "race\n",
       "Amer-Indian-Eskimo    82.0\n",
       "Name: max, dtype: float64"
      ]
     },
     "execution_count": 80,
     "metadata": {},
     "output_type": "execute_result"
    }
   ],
   "source": [
    "for (race, sex),dat in data.groupby(['race', 'sex']):\n",
    "    print(\"Race: {0}, sex: {1}\".format(race, sex))\n",
    "    print(dat['age'].describe())\n",
    "\n",
    "data.loc[data['race']=='Amer-Indian-Eskimo'].groupby('race').describe()['age']['max']"
   ]
  },
  {
   "cell_type": "markdown",
   "metadata": {},
   "source": [
    "**8. Among whom is the proportion of those who earn a lot (>50K) greater: married or single men (*marital-status* feature)? Consider as married those who have a *marital-status* starting with *Married* (Married-civ-spouse, Married-spouse-absent or Married-AF-spouse), the rest are considered bachelors.**"
   ]
  },
  {
   "cell_type": "code",
   "execution_count": 124,
   "metadata": {},
   "outputs": [
    {
     "name": "stdout",
     "output_type": "stream",
     "text": [
      "5965\n"
     ]
    },
    {
     "data": {
      "text/plain": [
       "6662"
      ]
     },
     "execution_count": 124,
     "metadata": {},
     "output_type": "execute_result"
    }
   ],
   "source": [
    "dat=data.loc[(data['salary']=='>50K') & (data['sex']=='Male')]\n",
    "print((dat.loc[dat['marital-status'].str.startswith('Married')]).shape[0])\n",
    "(dat.shape[0])\n",
    "\n"
   ]
  },
  {
   "cell_type": "markdown",
   "metadata": {},
   "source": [
    "**9. What is the maximum number of hours a person works per week (*hours-per-week* feature)? How many people work such a number of hours, and what is the percentage of those who earn a lot (>50K) among them?**"
   ]
  },
  {
   "cell_type": "code",
   "execution_count": 153,
   "metadata": {},
   "outputs": [
    {
     "name": "stdout",
     "output_type": "stream",
     "text": [
      "99\n",
      "85\n",
      "25\n",
      "percentage: 29.41176470588235\n"
     ]
    }
   ],
   "source": [
    "maxhpw=data['hours-per-week'].max()\n",
    "print(maxhpw)\n",
    "people=data.loc[data['hours-per-week']==maxhpw]\n",
    "print(people.shape[0])\n",
    "perc=people.loc[people['salary']=='>50K']\n",
    "print(perc.shape[0])\n",
    "\n",
    "print(\"percentage:\",100*perc.shape[0]/people.shape[0])"
   ]
  },
  {
   "cell_type": "markdown",
   "metadata": {},
   "source": [
    "**10. Count the average time of work (*hours-per-week*) for those who earn a little and a lot (*salary*) for each country (*native-country*). What will these be for Japan?**"
   ]
  },
  {
   "cell_type": "code",
   "execution_count": 204,
   "metadata": {},
   "outputs": [
    {
     "name": "stdout",
     "output_type": "stream",
     "text": [
      "                          age         fnlwgt  education-num  capital-gain  \\\n",
      "native-country                                                              \n",
      "?                   44.328767  187154.513699      12.273973   6873.205479   \n",
      "Cambodia            41.428571  237677.000000      10.285714   1935.714286   \n",
      "Canada              45.769231  202084.076923      11.512821   4433.923077   \n",
      "China               44.550000  188284.700000      13.350000   1088.600000   \n",
      "Columbia            53.500000  283410.500000      15.500000      0.000000   \n",
      "Cuba                41.520000  252969.680000      11.160000   1011.920000   \n",
      "Dominican-Republic  30.500000  220226.000000       9.000000  49999.500000   \n",
      "Ecuador             47.500000  169428.750000      10.500000   2346.500000   \n",
      "El-Salvador         50.111111  149620.555556      12.222222   4708.111111   \n",
      "England             45.533333  176206.700000      12.166667   2177.700000   \n",
      "France              40.166667  172499.916667      12.666667   1116.750000   \n",
      "Germany             44.409091  198534.590909      12.090909   2449.068182   \n",
      "Greece              50.250000  121954.125000      11.125000   3741.250000   \n",
      "Guatemala           35.666667  247825.666667       7.666667   2562.666667   \n",
      "Haiti               48.000000  206832.500000       9.500000      0.000000   \n",
      "Honduras            47.000000   51835.000000      15.000000      0.000000   \n",
      "Hong                31.500000  294478.833333      13.833333      0.000000   \n",
      "Hungary             57.333333  172137.333333      11.000000   1726.000000   \n",
      "India               41.625000  164542.525000      13.850000   8697.425000   \n",
      "Iran                41.222222  179504.666667      13.111111   4884.444444   \n",
      "Ireland             43.600000  135631.800000      11.400000      0.000000   \n",
      "Italy               50.360000  185383.360000      10.960000   1253.040000   \n",
      "Jamaica             42.100000  211707.900000      10.900000   3507.500000   \n",
      "Japan               42.875000  167433.708333      12.583333   6258.750000   \n",
      "Laos                41.000000  221266.500000       9.000000      0.000000   \n",
      "Mexico              40.484848  302417.000000       9.393939   4256.393939   \n",
      "Nicaragua           34.000000  399953.500000       9.500000      0.000000   \n",
      "Peru                33.500000  314562.500000      11.500000      0.000000   \n",
      "Philippines         42.737705  178169.196721      12.442623   3259.065574   \n",
      "Poland              50.583333  179314.166667      11.083333   2743.083333   \n",
      "Portugal            40.000000  106998.250000      10.750000      0.000000   \n",
      "Puerto-Rico         46.500000  221403.333333       9.833333   2299.500000   \n",
      "Scotland            52.666667  208306.666667      10.666667   1726.000000   \n",
      "South               44.875000  160641.250000      11.687500   9066.937500   \n",
      "Taiwan              40.800000  193354.550000      14.450000   5364.850000   \n",
      "Thailand            32.666667  199784.000000      12.666667      0.000000   \n",
      "Trinadad&Tobago     42.500000  162096.000000       7.000000      0.000000   \n",
      "United-States       44.297169  187433.992330      11.578859   3967.286850   \n",
      "Vietnam             35.400000  141648.400000       9.600000   5873.600000   \n",
      "Yugoslavia          40.166667  197059.166667      10.333333    926.000000   \n",
      "\n",
      "                    capital-loss  hours-per-week  \n",
      "native-country                                    \n",
      "?                     285.397260       45.547945  \n",
      "Cambodia                0.000000       40.000000  \n",
      "Canada                 97.153846       45.641026  \n",
      "China                 413.550000       38.900000  \n",
      "Columbia                0.000000       50.000000  \n",
      "Cuba                  210.960000       42.440000  \n",
      "Dominican-Republic      0.000000       47.000000  \n",
      "Ecuador                 0.000000       48.750000  \n",
      "El-Salvador             0.000000       45.000000  \n",
      "England               115.533333       44.533333  \n",
      "France                  0.000000       50.750000  \n",
      "Germany               217.977273       44.977273  \n",
      "Greece                539.625000       50.625000  \n",
      "Guatemala               0.000000       36.666667  \n",
      "Haiti                   0.000000       42.750000  \n",
      "Honduras             1902.000000       60.000000  \n",
      "Hong                  329.500000       45.000000  \n",
      "Hungary                 0.000000       50.000000  \n",
      "India                 288.325000       46.475000  \n",
      "Iran                  191.722222       47.500000  \n",
      "Ireland               377.400000       48.000000  \n",
      "Italy                  79.080000       45.400000  \n",
      "Jamaica                 0.000000       41.100000  \n",
      "Japan                  82.375000       47.958333  \n",
      "Laos                    0.000000       40.000000  \n",
      "Mexico                 57.181818       46.575758  \n",
      "Nicaragua             924.000000       37.500000  \n",
      "Peru                  924.000000       40.000000  \n",
      "Philippines           196.229508       43.032787  \n",
      "Poland                  0.000000       39.000000  \n",
      "Portugal                0.000000       41.500000  \n",
      "Puerto-Rico           158.500000       39.416667  \n",
      "Scotland                0.000000       46.666667  \n",
      "South                 361.312500       51.437500  \n",
      "Taiwan                314.700000       46.800000  \n",
      "Thailand                0.000000       58.333333  \n",
      "Trinadad&Tobago       943.500000       40.000000  \n",
      "United-States         194.465207       45.505369  \n",
      "Vietnam                 0.000000       39.200000  \n",
      "Yugoslavia              0.000000       49.500000  \n",
      "                                  age         fnlwgt  education-num  \\\n",
      "native-country                                                        \n",
      "?                           36.853547  195354.379863      10.038902   \n",
      "Cambodia                    35.666667  167065.666667       7.916667   \n",
      "Canada                      41.012195  169279.585366      10.243902   \n",
      "China                       41.800000  175689.181818      10.309091   \n",
      "Columbia                    39.228070  223105.157895       9.157895   \n",
      "Cuba                        47.285714  243906.228571       9.042857   \n",
      "Dominican-Republic          37.941176  191262.014706       7.058824   \n",
      "Ecuador                     34.833333  188597.166667       9.291667   \n",
      "El-Salvador                 32.649485  264114.123711       6.340206   \n",
      "England                     38.966667  185459.400000      10.433333   \n",
      "France                      38.117647  205851.588235      11.941176   \n",
      "Germany                     36.817204  184968.236559      10.462366   \n",
      "Greece                      44.666667  151661.285714       9.190476   \n",
      "Guatemala                   32.262295  266016.016393       5.950820   \n",
      "Haiti                       37.300000  209238.125000       8.875000   \n",
      "Holand-Netherlands          32.000000   27882.000000      10.000000   \n",
      "Honduras                    32.750000  272571.000000       8.166667   \n",
      "Hong                        34.571429  191441.571429       9.214286   \n",
      "Hungary                     47.000000  182993.800000      10.700000   \n",
      "India                       35.733333  171203.466667      11.483333   \n",
      "Iran                        38.120000  184160.240000      11.880000   \n",
      "Ireland                     34.578947  138620.157895       9.736842   \n",
      "Italy                       44.375000  179759.375000       7.750000   \n",
      "Jamaica                     34.676056  212218.239437       9.704225   \n",
      "Japan                       35.315789  197242.526316      10.710526   \n",
      "Laos                        33.937500  209838.187500       8.500000   \n",
      "Mexico                      32.901639  289038.116393       5.959016   \n",
      "Nicaragua                   33.593750  287987.906250       8.656250   \n",
      "Outlying-US(Guam-USVI-etc)  38.714286  204487.785714      10.285714   \n",
      "Peru                        35.379310  271800.517241       9.206897   \n",
      "Philippines                 37.978102  160747.970803      10.167883   \n",
      "Poland                      41.250000  185051.479167       9.854167   \n",
      "Portugal                    40.333333  153666.939394       6.212121   \n",
      "Puerto-Rico                 39.803922  200316.009804       8.107843   \n",
      "Scotland                    36.333333  155825.888889      10.111111   \n",
      "South                       37.218750  164191.921875      10.718750   \n",
      "Taiwan                      29.322581  181981.290323      12.548387   \n",
      "Thailand                    35.400000  181043.200000      10.600000   \n",
      "Trinadad&Tobago             41.176471  218778.941176       8.411765   \n",
      "United-States               36.816719  186950.051730       9.710032   \n",
      "Vietnam                     33.951613  165028.725806       9.661290   \n",
      "Yugoslavia                  38.000000  227306.800000       9.700000   \n",
      "\n",
      "                            capital-gain  capital-loss  hours-per-week  \n",
      "native-country                                                          \n",
      "?                             113.757437     62.427918       40.164760  \n",
      "Cambodia                      498.250000    289.833333       41.416667  \n",
      "Canada                        110.695122    145.524390       37.914634  \n",
      "China                         103.890909     94.418182       37.381818  \n",
      "Columbia                      186.947368     28.105263       38.684211  \n",
      "Cuba                          136.985714     19.714286       37.985714  \n",
      "Dominican-Republic             48.897059     25.911765       42.338235  \n",
      "Ecuador                       224.458333      0.000000       38.041667  \n",
      "El-Salvador                   190.773196     34.000000       36.030928  \n",
      "England                       208.233333     66.366667       40.483333  \n",
      "France                        144.882353      0.000000       41.058824  \n",
      "Germany                       148.096774     11.741935       39.139785  \n",
      "Greece                        347.761905    202.428571       41.809524  \n",
      "Guatemala                     116.147541     26.131148       39.360656  \n",
      "Haiti                           0.000000     80.625000       36.325000  \n",
      "Holand-Netherlands              0.000000   2205.000000       40.000000  \n",
      "Honduras                        0.000000      0.000000       34.333333  \n",
      "Hong                            0.000000      0.000000       39.142857  \n",
      "Hungary                       413.800000    166.800000       31.300000  \n",
      "India                         209.916667     26.316667       38.233333  \n",
      "Iran                            0.000000     80.080000       41.440000  \n",
      "Ireland                       409.842105      0.000000       40.947368  \n",
      "Italy                         277.375000      0.000000       39.625000  \n",
      "Jamaica                        48.042254      0.000000       38.239437  \n",
      "Japan                         201.473684     41.842105       41.000000  \n",
      "Laos                          180.312500      0.000000       40.375000  \n",
      "Mexico                        135.537705     22.990164       40.003279  \n",
      "Nicaragua                     212.312500     49.343750       36.093750  \n",
      "Outlying-US(Guam-USVI-etc)      0.000000      0.000000       41.857143  \n",
      "Peru                           63.137931      0.000000       35.068966  \n",
      "Philippines                    20.649635     55.642336       38.065693  \n",
      "Poland                        169.583333     42.729167       38.166667  \n",
      "Portugal                      256.060606      0.000000       41.939394  \n",
      "Puerto-Rico                    83.980392     43.078431       38.470588  \n",
      "Scotland                        0.000000      0.000000       39.444444  \n",
      "South                          70.437500    121.453125       40.156250  \n",
      "Taiwan                         71.032258     51.677419       33.774194  \n",
      "Thailand                        0.000000      0.000000       42.866667  \n",
      "Trinadad&Tobago                 0.000000    137.588235       37.058824  \n",
      "United-States                 151.071549     53.972635       38.799127  \n",
      "Vietnam                       240.193548     94.338710       37.193548  \n",
      "Yugoslavia                      0.000000      0.000000       41.600000  \n",
      "? <=50K 40.16\n",
      "? >50K 45.55\n",
      "Cambodia <=50K 41.42\n",
      "Cambodia >50K 40.0\n",
      "Canada <=50K 37.91\n",
      "Canada >50K 45.64\n",
      "China <=50K 37.38\n",
      "China >50K 38.9\n",
      "Columbia <=50K 38.68\n",
      "Columbia >50K 50.0\n",
      "Cuba <=50K 37.99\n",
      "Cuba >50K 42.44\n",
      "Dominican-Republic <=50K 42.34\n",
      "Dominican-Republic >50K 47.0\n",
      "Ecuador <=50K 38.04\n",
      "Ecuador >50K 48.75\n",
      "El-Salvador <=50K 36.03\n",
      "El-Salvador >50K 45.0\n",
      "England <=50K 40.48\n",
      "England >50K 44.53\n",
      "France <=50K 41.06\n",
      "France >50K 50.75\n",
      "Germany <=50K 39.14\n",
      "Germany >50K 44.98\n",
      "Greece <=50K 41.81\n",
      "Greece >50K 50.62\n",
      "Guatemala <=50K 39.36\n",
      "Guatemala >50K 36.67\n",
      "Haiti <=50K 36.33\n",
      "Haiti >50K 42.75\n",
      "Holand-Netherlands <=50K 40.0\n",
      "Honduras <=50K 34.33\n",
      "Honduras >50K 60.0\n",
      "Hong <=50K 39.14\n",
      "Hong >50K 45.0\n",
      "Hungary <=50K 31.3\n",
      "Hungary >50K 50.0\n",
      "India <=50K 38.23\n",
      "India >50K 46.48\n",
      "Iran <=50K 41.44\n",
      "Iran >50K 47.5\n",
      "Ireland <=50K 40.95\n",
      "Ireland >50K 48.0\n",
      "Italy <=50K 39.62\n",
      "Italy >50K 45.4\n",
      "Jamaica <=50K 38.24\n",
      "Jamaica >50K 41.1\n",
      "Japan <=50K 41.0\n",
      "Japan >50K 47.96\n",
      "Laos <=50K 40.38\n",
      "Laos >50K 40.0\n",
      "Mexico <=50K 40.0\n",
      "Mexico >50K 46.58\n",
      "Nicaragua <=50K 36.09\n",
      "Nicaragua >50K 37.5\n",
      "Outlying-US(Guam-USVI-etc) <=50K 41.86\n",
      "Peru <=50K 35.07\n",
      "Peru >50K 40.0\n",
      "Philippines <=50K 38.07\n",
      "Philippines >50K 43.03\n",
      "Poland <=50K 38.17\n",
      "Poland >50K 39.0\n",
      "Portugal <=50K 41.94\n",
      "Portugal >50K 41.5\n",
      "Puerto-Rico <=50K 38.47\n",
      "Puerto-Rico >50K 39.42\n",
      "Scotland <=50K 39.44\n",
      "Scotland >50K 46.67\n",
      "South <=50K 40.16\n",
      "South >50K 51.44\n",
      "Taiwan <=50K 33.77\n",
      "Taiwan >50K 46.8\n",
      "Thailand <=50K 42.87\n",
      "Thailand >50K 58.33\n",
      "Trinadad&Tobago <=50K 37.06\n",
      "Trinadad&Tobago >50K 40.0\n",
      "United-States <=50K 38.8\n",
      "United-States >50K 45.51\n",
      "Vietnam <=50K 37.19\n",
      "Vietnam >50K 39.2\n",
      "Yugoslavia <=50K 41.6\n",
      "Yugoslavia >50K 49.5\n"
     ]
    }
   ],
   "source": [
    "rich=data.loc[data['salary']=='>50K']\n",
    "notrich=data.loc[data['salary']!='>50K']\n",
    "\n",
    "res1=rich.groupby('native-country')\n",
    "res2=notrich.groupby('native-country')\n",
    "\n",
    "print(res1.mean())\n",
    "print(res2.mean())\n",
    "\n",
    "for (country, salary), sub_df in data.groupby(['native-country', 'salary']):\n",
    "    print(country, salary, round(sub_df['hours-per-week'].mean(), 2))"
   ]
  },
  {
   "cell_type": "code",
   "execution_count": null,
   "metadata": {},
   "outputs": [],
   "source": []
  }
 ],
 "metadata": {
  "anaconda-cloud": {},
  "kernelspec": {
   "display_name": "Python 3",
   "language": "python",
   "name": "python3"
  },
  "language_info": {
   "codemirror_mode": {
    "name": "ipython",
    "version": 3
   },
   "file_extension": ".py",
   "mimetype": "text/x-python",
   "name": "python",
   "nbconvert_exporter": "python",
   "pygments_lexer": "ipython3",
   "version": "3.7.7"
  }
 },
 "nbformat": 4,
 "nbformat_minor": 1
}
