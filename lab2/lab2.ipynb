{
 "cells": [
  {
   "cell_type": "code",
   "execution_count": 1,
   "metadata": {},
   "outputs": [],
   "source": [
    "%matplotlib inline\n",
    "import pandas as pd\n",
    "import pandasql as ps\n",
    "from datetime import datetime\n",
    "import seaborn\n",
    "import matplotlib.pyplot as plt\n",
    "import time\n",
    "\n",
    "%config InlineBackend.figure_format = 'svg'\n",
    "from pylab import rcParams\n",
    "rcParams['figure.figsize'] = 8, 5"
   ]
  },
  {
   "cell_type": "code",
   "execution_count": 2,
   "metadata": {},
   "outputs": [
    {
     "data": {
      "text/plain": [
       "'1.0.3'"
      ]
     },
     "execution_count": 2,
     "metadata": {},
     "output_type": "execute_result"
    }
   ],
   "source": [
    "pd.__version__"
   ]
  },
  {
   "cell_type": "code",
   "execution_count": 3,
   "metadata": {},
   "outputs": [
    {
     "data": {
      "text/html": [
       "<div>\n",
       "<style scoped>\n",
       "    .dataframe tbody tr th:only-of-type {\n",
       "        vertical-align: middle;\n",
       "    }\n",
       "\n",
       "    .dataframe tbody tr th {\n",
       "        vertical-align: top;\n",
       "    }\n",
       "\n",
       "    .dataframe thead th {\n",
       "        text-align: right;\n",
       "    }\n",
       "</style>\n",
       "<table border=\"1\" class=\"dataframe\">\n",
       "  <thead>\n",
       "    <tr style=\"text-align: right;\">\n",
       "      <th></th>\n",
       "      <th>X</th>\n",
       "      <th>Y</th>\n",
       "    </tr>\n",
       "  </thead>\n",
       "  <tbody>\n",
       "    <tr>\n",
       "      <th>A</th>\n",
       "      <td>1</td>\n",
       "      <td>2</td>\n",
       "    </tr>\n",
       "    <tr>\n",
       "      <th>B</th>\n",
       "      <td>1</td>\n",
       "      <td>5</td>\n",
       "    </tr>\n",
       "    <tr>\n",
       "      <th>C</th>\n",
       "      <td>7</td>\n",
       "      <td>8</td>\n",
       "    </tr>\n",
       "  </tbody>\n",
       "</table>\n",
       "</div>"
      ],
      "text/plain": [
       "   X  Y\n",
       "A  1  2\n",
       "B  1  5\n",
       "C  7  8"
      ]
     },
     "execution_count": 3,
     "metadata": {},
     "output_type": "execute_result"
    }
   ],
   "source": [
    "df = pd.DataFrame([[1, 2], [1, 5], [7, 8]],\n",
    "     index=['A', 'B', 'C'],\n",
    "     columns=['X', 'Y'])\n",
    "df"
   ]
  },
  {
   "cell_type": "code",
   "execution_count": 4,
   "metadata": {},
   "outputs": [
    {
     "data": {
      "text/html": [
       "<div>\n",
       "<style scoped>\n",
       "    .dataframe tbody tr th:only-of-type {\n",
       "        vertical-align: middle;\n",
       "    }\n",
       "\n",
       "    .dataframe tbody tr th {\n",
       "        vertical-align: top;\n",
       "    }\n",
       "\n",
       "    .dataframe thead th {\n",
       "        text-align: right;\n",
       "    }\n",
       "</style>\n",
       "<table border=\"1\" class=\"dataframe\">\n",
       "  <thead>\n",
       "    <tr style=\"text-align: right;\">\n",
       "      <th></th>\n",
       "      <th>X</th>\n",
       "      <th>Y</th>\n",
       "    </tr>\n",
       "  </thead>\n",
       "  <tbody>\n",
       "    <tr>\n",
       "      <th>A</th>\n",
       "      <td>1</td>\n",
       "      <td>20</td>\n",
       "    </tr>\n",
       "    <tr>\n",
       "      <th>B</th>\n",
       "      <td>4</td>\n",
       "      <td>50</td>\n",
       "    </tr>\n",
       "    <tr>\n",
       "      <th>C</th>\n",
       "      <td>70</td>\n",
       "      <td>80</td>\n",
       "    </tr>\n",
       "  </tbody>\n",
       "</table>\n",
       "</div>"
      ],
      "text/plain": [
       "    X   Y\n",
       "A   1  20\n",
       "B   4  50\n",
       "C  70  80"
      ]
     },
     "execution_count": 4,
     "metadata": {},
     "output_type": "execute_result"
    }
   ],
   "source": [
    "df2 = pd.DataFrame([[1, 20], [4, 50], [70, 80]],\n",
    "     index=['A', 'B', 'C'],\n",
    "     columns=['X', 'Y'])\n",
    "df2"
   ]
  },
  {
   "cell_type": "code",
   "execution_count": 5,
   "metadata": {},
   "outputs": [],
   "source": [
    "def union_frames_sql(df,df2):\n",
    "    simple_query = '''\n",
    "        SELECT \n",
    "            X,\n",
    "            Y\n",
    "        FROM df\n",
    "        UNION\n",
    "        SELECT \n",
    "            X,\n",
    "            Y\n",
    "        FROM df2\n",
    "        \n",
    "        ORDER BY Y desc\n",
    "        LIMIT 10\n",
    "        '''\n",
    "    return ps.sqldf(simple_query, locals())"
   ]
  },
  {
   "cell_type": "code",
   "execution_count": 6,
   "metadata": {},
   "outputs": [
    {
     "name": "stdout",
     "output_type": "stream",
     "text": [
      "    X   Y\n",
      "0  70  80\n",
      "1   4  50\n",
      "2   1  20\n",
      "3   7   8\n",
      "4   1   5\n",
      "5   1   2\n",
      "--- 0.017925024032592773 seconds ---\n"
     ]
    }
   ],
   "source": [
    "start_time = time.time()\n",
    "print (union_frames_sql(df,df2))\n",
    "print(\"--- %s seconds ---\" % (time.time() - start_time))\n"
   ]
  },
  {
   "cell_type": "code",
   "execution_count": 7,
   "metadata": {},
   "outputs": [],
   "source": [
    "def union_frames_pandas(df,df2):\n",
    "    df3=pd.concat([df,df2])\n",
    "    return df3[['X', 'Y']].sort_values(by ='Y', ascending = False)[:10]"
   ]
  },
  {
   "cell_type": "code",
   "execution_count": 8,
   "metadata": {},
   "outputs": [
    {
     "name": "stdout",
     "output_type": "stream",
     "text": [
      "    X   Y\n",
      "C  70  80\n",
      "B   4  50\n",
      "A   1  20\n",
      "C   7   8\n",
      "B   1   5\n",
      "A   1   2\n",
      "--- 0.003989458084106445 seconds ---\n"
     ]
    }
   ],
   "source": [
    "start_time = time.time()\n",
    "print(union_frames_pandas(df,df2))\n",
    "print(\"--- %s seconds ---\" % (time.time() - start_time))"
   ]
  },
  {
   "cell_type": "code",
   "execution_count": 9,
   "metadata": {},
   "outputs": [],
   "source": [
    "def join_frames_sql(df,df2):\n",
    "    simple_query = '''\n",
    "        SELECT \n",
    "            *\n",
    "        FROM df\n",
    "        JOIN\n",
    "        df2\n",
    "        ON\n",
    "        df.X=df2.X\n",
    "        ORDER BY Y desc\n",
    "        LIMIT 10\n",
    "        '''\n",
    "    return ps.sqldf(simple_query, locals())"
   ]
  },
  {
   "cell_type": "code",
   "execution_count": 10,
   "metadata": {},
   "outputs": [
    {
     "name": "stdout",
     "output_type": "stream",
     "text": [
      "   X  Y  X   Y\n",
      "0  1  5  1  20\n",
      "1  1  2  1  20\n",
      "--- 0.009974241256713867 seconds ---\n"
     ]
    }
   ],
   "source": [
    "start_time = time.time()\n",
    "print(join_frames_sql(df,df2))\n",
    "print(\"--- %s seconds ---\" % (time.time() - start_time))"
   ]
  },
  {
   "cell_type": "code",
   "execution_count": 11,
   "metadata": {},
   "outputs": [],
   "source": [
    "def join_frames_pandas(df,df2):\n",
    "    df3 = pd.merge(df, df2, on='X', how='inner')\n",
    "    return df3.sort_values(by ='Y_x', ascending = False)[:10]"
   ]
  },
  {
   "cell_type": "code",
   "execution_count": 12,
   "metadata": {},
   "outputs": [
    {
     "name": "stdout",
     "output_type": "stream",
     "text": [
      "   X  Y_x  Y_y\n",
      "1  1    5   20\n",
      "0  1    2   20\n",
      "--- 0.0059833526611328125 seconds ---\n"
     ]
    }
   ],
   "source": [
    "start_time = time.time()\n",
    "print(join_frames_pandas(df,df2))\n",
    "print(\"--- %s seconds ---\" % (time.time() - start_time))"
   ]
  },
  {
   "cell_type": "code",
   "execution_count": 13,
   "metadata": {},
   "outputs": [],
   "source": [
    "def aggr_frames_sql(df,func):\n",
    "    simple_query = '''\n",
    "        SELECT \n",
    "            '''+func+'''(Y)\n",
    "        FROM df\n",
    "        GROUP BY X\n",
    "        ORDER BY Y desc\n",
    "        LIMIT 10\n",
    "        '''\n",
    "    return ps.sqldf(simple_query, locals())"
   ]
  },
  {
   "cell_type": "code",
   "execution_count": 15,
   "metadata": {},
   "outputs": [
    {
     "name": "stdout",
     "output_type": "stream",
     "text": [
      "   avg(Y)\n",
      "0     8.0\n",
      "1     3.5\n",
      "--- 0.008976221084594727 seconds ---\n"
     ]
    }
   ],
   "source": [
    "start_time = time.time()\n",
    "print(aggr_frames_sql(df,'avg'))\n",
    "print(\"--- %s seconds ---\" % (time.time() - start_time))"
   ]
  },
  {
   "cell_type": "code",
   "execution_count": 16,
   "metadata": {},
   "outputs": [],
   "source": [
    "def avg_frame_pandas(df):\n",
    "    return df.groupby('X').mean()"
   ]
  },
  {
   "cell_type": "code",
   "execution_count": 18,
   "metadata": {},
   "outputs": [
    {
     "name": "stdout",
     "output_type": "stream",
     "text": [
      "     Y\n",
      "X     \n",
      "1  3.5\n",
      "7  8.0\n",
      "--- 0.0039904117584228516 seconds ---\n"
     ]
    }
   ],
   "source": [
    "start_time = time.time()\n",
    "print(avg_frame_pandas(df))\n",
    "print(\"--- %s seconds ---\" % (time.time() - start_time))"
   ]
  },
  {
   "cell_type": "code",
   "execution_count": null,
   "metadata": {},
   "outputs": [],
   "source": []
  },
  {
   "cell_type": "code",
   "execution_count": null,
   "metadata": {},
   "outputs": [],
   "source": []
  }
 ],
 "metadata": {
  "kernelspec": {
   "display_name": "Python 3",
   "language": "python",
   "name": "python3"
  },
  "language_info": {
   "codemirror_mode": {
    "name": "ipython",
    "version": 3
   },
   "file_extension": ".py",
   "mimetype": "text/x-python",
   "name": "python",
   "nbconvert_exporter": "python",
   "pygments_lexer": "ipython3",
   "version": "3.7.7"
  }
 },
 "nbformat": 4,
 "nbformat_minor": 4
}
