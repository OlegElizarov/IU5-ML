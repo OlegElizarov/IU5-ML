{
 "cells": [
  {
   "cell_type": "code",
   "execution_count": 20,
   "metadata": {},
   "outputs": [],
   "source": [
    "import numpy as np\n",
    "import pandas as pd\n",
    "import seaborn as sns\n",
    "import string\n",
    "from sklearn.preprocessing import LabelEncoder\n",
    "from sklearn.preprocessing import MinMaxScaler, StandardScaler, Normalizer\n",
    "\n",
    "import matplotlib.pyplot as plt\n",
    "%matplotlib inline \n",
    "sns.set(style=\"ticks\")"
   ]
  },
  {
   "cell_type": "code",
   "execution_count": 2,
   "metadata": {},
   "outputs": [],
   "source": [
    "data = pd.read_csv('ansel/transfer_data.csv', sep=\",\")"
   ]
  },
  {
   "cell_type": "code",
   "execution_count": 3,
   "metadata": {},
   "outputs": [
    {
     "data": {
      "text/html": [
       "<div>\n",
       "<style scoped>\n",
       "    .dataframe tbody tr th:only-of-type {\n",
       "        vertical-align: middle;\n",
       "    }\n",
       "\n",
       "    .dataframe tbody tr th {\n",
       "        vertical-align: top;\n",
       "    }\n",
       "\n",
       "    .dataframe thead th {\n",
       "        text-align: right;\n",
       "    }\n",
       "</style>\n",
       "<table border=\"1\" class=\"dataframe\">\n",
       "  <thead>\n",
       "    <tr style=\"text-align: right;\">\n",
       "      <th></th>\n",
       "      <th>PLAYER</th>\n",
       "      <th>WINDOW</th>\n",
       "      <th>POSITION</th>\n",
       "      <th>COUNTRY</th>\n",
       "      <th>FROM</th>\n",
       "      <th>TO</th>\n",
       "      <th>DESCRIPTION</th>\n",
       "      <th>PRICE</th>\n",
       "      <th>LEAGUE</th>\n",
       "      <th>SEASON</th>\n",
       "    </tr>\n",
       "  </thead>\n",
       "  <tbody>\n",
       "    <tr>\n",
       "      <th>0</th>\n",
       "      <td>Paul Pogba</td>\n",
       "      <td>Pre-Season</td>\n",
       "      <td>Midfielder</td>\n",
       "      <td>France</td>\n",
       "      <td>Juventus</td>\n",
       "      <td>Manchester United</td>\n",
       "      <td>Sold</td>\n",
       "      <td>105000000.0</td>\n",
       "      <td>EPL</td>\n",
       "      <td>16/17</td>\n",
       "    </tr>\n",
       "    <tr>\n",
       "      <th>1</th>\n",
       "      <td>Gareth Bale</td>\n",
       "      <td>Pre-Season</td>\n",
       "      <td>Midfielder</td>\n",
       "      <td>Wales</td>\n",
       "      <td>Tottenham</td>\n",
       "      <td>Real Madrid</td>\n",
       "      <td>Sold</td>\n",
       "      <td>100000000.0</td>\n",
       "      <td>La Liga</td>\n",
       "      <td>13/14</td>\n",
       "    </tr>\n",
       "    <tr>\n",
       "      <th>2</th>\n",
       "      <td>Luis Suarez</td>\n",
       "      <td>Pre-Season</td>\n",
       "      <td>Attacker</td>\n",
       "      <td>Uruguay</td>\n",
       "      <td>Liverpool</td>\n",
       "      <td>Barcelona</td>\n",
       "      <td>Sold</td>\n",
       "      <td>95000000.0</td>\n",
       "      <td>La Liga</td>\n",
       "      <td>14/15</td>\n",
       "    </tr>\n",
       "    <tr>\n",
       "      <th>3</th>\n",
       "      <td>Ronaldo</td>\n",
       "      <td>Pre-Season</td>\n",
       "      <td>NaN</td>\n",
       "      <td>NaN</td>\n",
       "      <td>Manchester United</td>\n",
       "      <td>Real Madrid</td>\n",
       "      <td>Sold</td>\n",
       "      <td>93900000.0</td>\n",
       "      <td>La Liga</td>\n",
       "      <td>09/10</td>\n",
       "    </tr>\n",
       "    <tr>\n",
       "      <th>4</th>\n",
       "      <td>Gonzalo Higuain</td>\n",
       "      <td>Pre-Season</td>\n",
       "      <td>Attacker</td>\n",
       "      <td>Argentina</td>\n",
       "      <td>Napoli</td>\n",
       "      <td>Juventus</td>\n",
       "      <td>Sold</td>\n",
       "      <td>90000000.0</td>\n",
       "      <td>Serie A</td>\n",
       "      <td>16/17</td>\n",
       "    </tr>\n",
       "  </tbody>\n",
       "</table>\n",
       "</div>"
      ],
      "text/plain": [
       "            PLAYER      WINDOW    POSITION    COUNTRY               FROM  \\\n",
       "0       Paul Pogba  Pre-Season  Midfielder     France           Juventus   \n",
       "1      Gareth Bale  Pre-Season  Midfielder      Wales          Tottenham   \n",
       "2      Luis Suarez  Pre-Season    Attacker    Uruguay          Liverpool   \n",
       "3          Ronaldo  Pre-Season         NaN        NaN  Manchester United   \n",
       "4  Gonzalo Higuain  Pre-Season    Attacker  Argentina             Napoli   \n",
       "\n",
       "                  TO DESCRIPTION        PRICE   LEAGUE SEASON  \n",
       "0  Manchester United        Sold  105000000.0      EPL  16/17  \n",
       "1        Real Madrid        Sold  100000000.0  La Liga  13/14  \n",
       "2          Barcelona        Sold   95000000.0  La Liga  14/15  \n",
       "3        Real Madrid        Sold   93900000.0  La Liga  09/10  \n",
       "4           Juventus        Sold   90000000.0  Serie A  16/17  "
      ]
     },
     "execution_count": 3,
     "metadata": {},
     "output_type": "execute_result"
    }
   ],
   "source": [
    "data.head()"
   ]
  },
  {
   "cell_type": "code",
   "execution_count": 4,
   "metadata": {},
   "outputs": [
    {
     "data": {
      "text/plain": [
       "PLAYER            1\n",
       "WINDOW            1\n",
       "POSITION       1128\n",
       "COUNTRY         826\n",
       "FROM              2\n",
       "TO                1\n",
       "DESCRIPTION       1\n",
       "PRICE             1\n",
       "LEAGUE            1\n",
       "SEASON            1\n",
       "dtype: int64"
      ]
     },
     "execution_count": 4,
     "metadata": {},
     "output_type": "execute_result"
    }
   ],
   "source": [
    "data.isnull().sum()\n"
   ]
  },
  {
   "cell_type": "code",
   "execution_count": 5,
   "metadata": {},
   "outputs": [
    {
     "data": {
      "text/plain": [
       "PLAYER          object\n",
       "WINDOW          object\n",
       "POSITION        object\n",
       "COUNTRY         object\n",
       "FROM            object\n",
       "TO              object\n",
       "DESCRIPTION     object\n",
       "PRICE          float64\n",
       "LEAGUE          object\n",
       "SEASON          object\n",
       "dtype: object"
      ]
     },
     "execution_count": 5,
     "metadata": {},
     "output_type": "execute_result"
    }
   ],
   "source": [
    "data.dtypes"
   ]
  },
  {
   "cell_type": "code",
   "execution_count": 48,
   "metadata": {},
   "outputs": [
    {
     "name": "stdout",
     "output_type": "stream",
     "text": [
      "Колонка PLAYER. Тип данных object. Количество пустых значений 1, 0.02%.\n",
      "Колонка WINDOW. Тип данных object. Количество пустых значений 1, 0.02%.\n",
      "Колонка POSITION. Тип данных object. Количество пустых значений 1128, 18.09%.\n",
      "Колонка COUNTRY. Тип данных object. Количество пустых значений 826, 13.24%.\n",
      "Колонка FROM. Тип данных object. Количество пустых значений 2, 0.03%.\n",
      "Колонка TO. Тип данных object. Количество пустых значений 1, 0.02%.\n",
      "Колонка DESCRIPTION. Тип данных object. Количество пустых значений 1, 0.02%.\n",
      "Колонка PRICE. Тип данных float64. Количество пустых значений 1, 0.02%.\n",
      "Колонка LEAGUE. Тип данных object. Количество пустых значений 1, 0.02%.\n",
      "Колонка SEASON. Тип данных object. Количество пустых значений 1, 0.02%.\n"
     ]
    }
   ],
   "source": [
    "num_cols = []\n",
    "total_count = data.shape[0]\n",
    "for col in data.columns:\n",
    "    # Количество пустых значений \n",
    "    temp_null_count = data[data[col].isnull()].shape[0]\n",
    "    dt = str(data[col].dtype)\n",
    "    if temp_null_count>0 and (dt=='float64' or dt=='object'):\n",
    "        num_cols.append(col)\n",
    "        temp_perc = round((temp_null_count / total_count) * 100.0, 2)\n",
    "        print('Колонка {}. Тип данных {}. Количество пустых значений {}, {}%.'.format(col, dt, temp_null_count, temp_perc))\n"
   ]
  },
  {
   "cell_type": "code",
   "execution_count": 8,
   "metadata": {},
   "outputs": [
    {
     "data": {
      "text/plain": [
       "PLAYER         0\n",
       "WINDOW         0\n",
       "POSITION       0\n",
       "COUNTRY        0\n",
       "FROM           0\n",
       "TO             0\n",
       "DESCRIPTION    0\n",
       "PRICE          0\n",
       "LEAGUE         0\n",
       "SEASON         0\n",
       "dtype: int64"
      ]
     },
     "execution_count": 8,
     "metadata": {},
     "output_type": "execute_result"
    }
   ],
   "source": [
    "index_with_nan = data.index[data.isnull().any(axis=1)]\n",
    "data.drop(index_with_nan,0, inplace=True)\n",
    "data.shape\n",
    "data.isnull().sum()\n"
   ]
  },
  {
   "cell_type": "code",
   "execution_count": 16,
   "metadata": {},
   "outputs": [
    {
     "data": {
      "text/plain": [
       "array(['Midfielder', 'Attacker', 'Defender', 'Goalkeeper'], dtype=object)"
      ]
     },
     "execution_count": 16,
     "metadata": {},
     "output_type": "execute_result"
    }
   ],
   "source": [
    "data['POSITION'].unique()"
   ]
  },
  {
   "cell_type": "code",
   "execution_count": 17,
   "metadata": {},
   "outputs": [],
   "source": [
    "le = LabelEncoder()\n",
    "pos_enc = le.fit_transform(data['POSITION'])"
   ]
  },
  {
   "cell_type": "code",
   "execution_count": 18,
   "metadata": {},
   "outputs": [
    {
     "data": {
      "text/plain": [
       "array(['Attacker', 'Defender', 'Goalkeeper', 'Midfielder'], dtype=object)"
      ]
     },
     "execution_count": 18,
     "metadata": {},
     "output_type": "execute_result"
    }
   ],
   "source": [
    "le.inverse_transform(np.unique(pos_enc))"
   ]
  },
  {
   "cell_type": "code",
   "execution_count": 23,
   "metadata": {},
   "outputs": [],
   "source": [
    "sc1 = MinMaxScaler()\n",
    "sc1_data = sc1.fit_transform(data[['PRICE']])"
   ]
  },
  {
   "cell_type": "code",
   "execution_count": 22,
   "metadata": {},
   "outputs": [
    {
     "data": {
      "image/png": "[encoded data removed]",
      "text/plain": [
       "<Figure size 432x288 with 1 Axes>"
      ]
     },
     "metadata": {},
     "output_type": "display_data"
    }
   ],
   "source": [
    "plt.hist(sc1_data, 50)\n",
    "plt.show()"
   ]
  },
  {
   "cell_type": "code",
   "execution_count": 24,
   "metadata": {},
   "outputs": [
    {
     "data": {
      "image/png": "[encoded data removed]",
      "text/plain": [
       "<Figure size 432x288 with 1 Axes>"
      ]
     },
     "metadata": {},
     "output_type": "display_data"
    }
   ],
   "source": [
    "plt.hist(data['PRICE'], 50)\n",
    "plt.show()"
   ]
  },
  {
   "cell_type": "markdown",
   "metadata": {},
   "source": [
    "В данном датасете данные по умолчанию уже хорошо (может не очень ,но нормально) масштабированны.Так что использование дополнительных методов не столь необходимо"
   ]
  },
  {
   "cell_type": "code",
   "execution_count": 28,
   "metadata": {},
   "outputs": [
    {
     "data": {
      "image/png": "[encoded data removed]",
      "text/plain": [
       "<Figure size 432x288 with 1 Axes>"
      ]
     },
     "metadata": {},
     "output_type": "display_data"
    }
   ],
   "source": [
    "sc2 = StandardScaler()\n",
    "sc2_data = sc2.fit_transform(data[['PRICE']])\n",
    "plt.hist(sc2_data, 40)\n",
    "plt.show()"
   ]
  },
  {
   "cell_type": "code",
   "execution_count": null,
   "metadata": {},
   "outputs": [],
   "source": []
  }
 ],
 "metadata": {
  "kernelspec": {
   "display_name": "Python 3",
   "language": "python",
   "name": "python3"
  },
  "language_info": {
   "codemirror_mode": {
    "name": "ipython",
    "version": 3
   },
   "file_extension": ".py",
   "mimetype": "text/x-python",
   "name": "python",
   "nbconvert_exporter": "python",
   "pygments_lexer": "ipython3",
   "version": "3.7.7"
  }
 },
 "nbformat": 4,
 "nbformat_minor": 4
}
