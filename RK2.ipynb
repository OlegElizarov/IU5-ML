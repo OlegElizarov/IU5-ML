{
 "cells": [
  {
   "cell_type": "code",
   "execution_count": 16,
   "metadata": {},
   "outputs": [],
   "source": [
    "from sklearn.linear_model import LogisticRegression\n",
    "from sklearn.svm import LinearSVC\n",
    "from sklearn.naive_bayes import MultinomialNB, ComplementNB, BernoulliNB,CategoricalNB\n",
    "from sklearn.metrics import accuracy_score\n",
    "from sklearn.datasets import fetch_20newsgroups\n",
    "from sklearn.feature_extraction.text import TfidfVectorizer\n",
    "import pandas as pd\n",
    "import seaborn as sns\n",
    "import matplotlib.pyplot as plt\n",
    "\n",
    "%matplotlib inline\n",
    "\n",
    "# Устанавливаем тип графиков\n",
    "sns.set(style=\"ticks\")\n",
    "\n",
    "# Для лучшего качествоа графиков\n",
    "from IPython.display import set_matplotlib_formats\n",
    "set_matplotlib_formats(\"retina\")\n",
    "\n",
    "# Устанавливаем ширину экрана для отчета\n",
    "pd.set_option(\"display.width\", 70)\n",
    "\n",
    "# Загружаем данные\n",
    "data_train = fetch_20newsgroups(subset='train', remove=('headers', 'footers'))\n",
    "data_test = fetch_20newsgroups(subset='test', remove=('headers', 'footers'))"
   ]
  },
  {
   "cell_type": "code",
   "execution_count": 2,
   "metadata": {},
   "outputs": [
    {
     "data": {
      "text/plain": [
       "(11314,)"
      ]
     },
     "execution_count": 2,
     "metadata": {},
     "output_type": "execute_result"
    }
   ],
   "source": [
    "data_train.target.shape"
   ]
  },
  {
   "cell_type": "code",
   "execution_count": null,
   "metadata": {},
   "outputs": [],
   "source": []
  },
  {
   "cell_type": "code",
   "execution_count": 4,
   "metadata": {},
   "outputs": [
    {
     "data": {
      "text/plain": [
       "TfidfVectorizer(analyzer='word', binary=False, decode_error='strict',\n",
       "                dtype=<class 'numpy.float64'>, encoding='utf-8',\n",
       "                input='content', lowercase=True, max_df=1.0, max_features=None,\n",
       "                min_df=1, ngram_range=(1, 1), norm='l2', preprocessor=None,\n",
       "                smooth_idf=True, stop_words=None, strip_accents=None,\n",
       "                sublinear_tf=False, token_pattern='(?u)\\\\b\\\\w\\\\w+\\\\b',\n",
       "                tokenizer=None, use_idf=True, vocabulary=None)"
      ]
     },
     "execution_count": 4,
     "metadata": {},
     "output_type": "execute_result"
    }
   ],
   "source": [
    "vectorizer = TfidfVectorizer()\n",
    "vectorizer.fit(data_train.data + data_test.data)"
   ]
  },
  {
   "cell_type": "code",
   "execution_count": 5,
   "metadata": {},
   "outputs": [],
   "source": [
    "X_train = vectorizer.transform(data_train.data)\n",
    "X_test = vectorizer.transform(data_test.data)\n",
    "\n",
    "y_train = data_train.target\n",
    "y_test = data_test.target"
   ]
  },
  {
   "cell_type": "code",
   "execution_count": 6,
   "metadata": {},
   "outputs": [
    {
     "data": {
      "text/plain": [
       "<11314x152843 sparse matrix of type '<class 'numpy.float64'>'\n",
       "\twith 1467517 stored elements in Compressed Sparse Row format>"
      ]
     },
     "execution_count": 6,
     "metadata": {},
     "output_type": "execute_result"
    }
   ],
   "source": [
    "X_train"
   ]
  },
  {
   "cell_type": "code",
   "execution_count": 7,
   "metadata": {},
   "outputs": [
    {
     "data": {
      "text/plain": [
       "<7532x152843 sparse matrix of type '<class 'numpy.float64'>'\n",
       "\twith 951914 stored elements in Compressed Sparse Row format>"
      ]
     },
     "execution_count": 7,
     "metadata": {},
     "output_type": "execute_result"
    }
   ],
   "source": [
    "X_test"
   ]
  },
  {
   "cell_type": "code",
   "execution_count": 45,
   "metadata": {},
   "outputs": [],
   "source": [
    "def test(model):\n",
    "    print(model)\n",
    "    model.fit(X_train, y_train)\n",
    "    ac = accuracy_score(y_test, model.predict(X_test))\n",
    "    print(\"accuracy:\", ac)\n",
    "    return ac"
   ]
  },
  {
   "cell_type": "code",
   "execution_count": 9,
   "metadata": {},
   "outputs": [
    {
     "name": "stdout",
     "output_type": "stream",
     "text": [
      "LogisticRegression(C=1.0, class_weight=None, dual=False, fit_intercept=True,\n",
      "                   intercept_scaling=1, l1_ratio=None, max_iter=100,\n",
      "                   multi_class='auto', n_jobs=None, penalty='l2',\n",
      "                   random_state=None, solver='lbfgs', tol=0.0001, verbose=0,\n",
      "                   warm_start=False)\n",
      "accuracy: 0.774429102496017\n"
     ]
    }
   ],
   "source": [
    "test(LogisticRegression(solver='lbfgs', multi_class='auto'))\n"
   ]
  },
  {
   "cell_type": "code",
   "execution_count": 10,
   "metadata": {},
   "outputs": [
    {
     "name": "stdout",
     "output_type": "stream",
     "text": [
      "LinearSVC(C=1.0, class_weight=None, dual=True, fit_intercept=True,\n",
      "          intercept_scaling=1, loss='squared_hinge', max_iter=1000,\n",
      "          multi_class='ovr', penalty='l2', random_state=None, tol=0.0001,\n",
      "          verbose=0)\n",
      "accuracy: 0.8048327137546468\n"
     ]
    }
   ],
   "source": [
    "test(LinearSVC())"
   ]
  },
  {
   "cell_type": "code",
   "execution_count": 11,
   "metadata": {},
   "outputs": [
    {
     "name": "stdout",
     "output_type": "stream",
     "text": [
      "MultinomialNB(alpha=1.0, class_prior=None, fit_prior=True)\n",
      "accuracy: 0.72623473181094\n"
     ]
    }
   ],
   "source": [
    "test(MultinomialNB())"
   ]
  },
  {
   "cell_type": "code",
   "execution_count": 56,
   "metadata": {},
   "outputs": [
    {
     "name": "stdout",
     "output_type": "stream",
     "text": [
      "ComplementNB(alpha=0.3, class_prior=None, fit_prior=True, norm=False)\n",
      "accuracy: 0.812931492299522\n"
     ]
    },
    {
     "data": {
      "text/plain": [
       "0.812931492299522"
      ]
     },
     "execution_count": 56,
     "metadata": {},
     "output_type": "execute_result"
    }
   ],
   "source": [
    "test(ComplementNB(alpha=0.3))"
   ]
  },
  {
   "cell_type": "code",
   "execution_count": 13,
   "metadata": {},
   "outputs": [
    {
     "name": "stdout",
     "output_type": "stream",
     "text": [
      "BernoulliNB(alpha=1.0, binarize=0.0, class_prior=None, fit_prior=True)\n",
      "accuracy: 0.5371747211895911\n"
     ]
    }
   ],
   "source": [
    "test(BernoulliNB())"
   ]
  },
  {
   "cell_type": "code",
   "execution_count": 55,
   "metadata": {},
   "outputs": [
    {
     "name": "stdout",
     "output_type": "stream",
     "text": [
      "ComplementNB(alpha=1, class_prior=None, fit_prior=True, norm=False)\n",
      "accuracy: 0.8089484864577802\n",
      "ComplementNB(alpha=0.9, class_prior=None, fit_prior=True, norm=False)\n",
      "accuracy: 0.8102761550716941\n",
      "ComplementNB(alpha=0.8, class_prior=None, fit_prior=True, norm=False)\n",
      "accuracy: 0.8101433882103027\n",
      "ComplementNB(alpha=0.7000000000000001, class_prior=None, fit_prior=True,\n",
      "             norm=False)\n",
      "accuracy: 0.8117365905469994\n",
      "ComplementNB(alpha=0.6000000000000001, class_prior=None, fit_prior=True,\n",
      "             norm=False)\n",
      "accuracy: 0.8120021242697822\n",
      "ComplementNB(alpha=0.5000000000000001, class_prior=None, fit_prior=True,\n",
      "             norm=False)\n",
      "accuracy: 0.8117365905469994\n",
      "ComplementNB(alpha=0.40000000000000013, class_prior=None, fit_prior=True,\n",
      "             norm=False)\n",
      "accuracy: 0.8127987254381307\n",
      "ComplementNB(alpha=0.30000000000000016, class_prior=None, fit_prior=True,\n",
      "             norm=False)\n",
      "accuracy: 0.812931492299522\n",
      "ComplementNB(alpha=0.20000000000000015, class_prior=None, fit_prior=True,\n",
      "             norm=False)\n",
      "accuracy: 0.811603823685608\n",
      "ComplementNB(alpha=0.10000000000000014, class_prior=None, fit_prior=True,\n",
      "             norm=False)\n",
      "accuracy: 0.8101433882103027\n",
      "ComplementNB(alpha=1.3877787807814457e-16, class_prior=None, fit_prior=True,\n",
      "             norm=False)\n",
      "accuracy: 0.6955655868295274\n",
      "0.30000000000000016   0.812931492299522 \n",
      "\n"
     ]
    },
    {
     "name": "stderr",
     "output_type": "stream",
     "text": [
      "D:\\PyML\\lib\\site-packages\\sklearn\\naive_bayes.py:507: UserWarning: alpha too small will result in numeric errors, setting alpha = 1.0e-10\n",
      "  'setting alpha = %.1e' % _ALPHA_MIN)\n"
     ]
    }
   ],
   "source": [
    "balpa=0\n",
    "bac=0\n",
    "i=1\n",
    "while i>0:\n",
    "    res=test(ComplementNB(alpha=i))\n",
    "#     print(res)\n",
    "    if res>bac:\n",
    "        balpa=i\n",
    "        bac=res\n",
    "    i-=0.1\n",
    "print(balpa,\" \",bac,\"\\n\")"
   ]
  },
  {
   "cell_type": "code",
   "execution_count": 63,
   "metadata": {},
   "outputs": [
    {
     "name": "stdout",
     "output_type": "stream",
     "text": [
      "MultinomialNB(alpha=0.2, class_prior=None, fit_prior=True)\n",
      "accuracy: 0.7738980350504514\n",
      "MultinomialNB(alpha=0.18000000000000002, class_prior=None, fit_prior=True)\n",
      "accuracy: 0.7769516728624535\n",
      "MultinomialNB(alpha=0.16000000000000003, class_prior=None, fit_prior=True)\n",
      "accuracy: 0.7804036112586299\n",
      "MultinomialNB(alpha=0.14000000000000004, class_prior=None, fit_prior=True)\n",
      "accuracy: 0.782793414763675\n",
      "MultinomialNB(alpha=0.12000000000000004, class_prior=None, fit_prior=True)\n",
      "accuracy: 0.7851832182687202\n",
      "MultinomialNB(alpha=0.10000000000000003, class_prior=None, fit_prior=True)\n",
      "accuracy: 0.7886351566648965\n",
      "MultinomialNB(alpha=0.08000000000000003, class_prior=None, fit_prior=True)\n",
      "accuracy: 0.7908921933085502\n",
      "MultinomialNB(alpha=0.060000000000000026, class_prior=None, fit_prior=True)\n",
      "accuracy: 0.7943441317047265\n",
      "MultinomialNB(alpha=0.04000000000000002, class_prior=None, fit_prior=True)\n",
      "accuracy: 0.7987254381306426\n",
      "MultinomialNB(alpha=0.02000000000000002, class_prior=None, fit_prior=True)\n",
      "accuracy: 0.8023101433882103\n",
      "MultinomialNB(alpha=2.0816681711721685e-17, class_prior=None, fit_prior=True)\n",
      "accuracy: 0.7458842272968667\n",
      "0.02000000000000002   0.8023101433882103 \n",
      "\n"
     ]
    },
    {
     "name": "stderr",
     "output_type": "stream",
     "text": [
      "D:\\PyML\\lib\\site-packages\\sklearn\\naive_bayes.py:507: UserWarning: alpha too small will result in numeric errors, setting alpha = 1.0e-10\n",
      "  'setting alpha = %.1e' % _ALPHA_MIN)\n"
     ]
    }
   ],
   "source": [
    "balpa=0\n",
    "bac=0\n",
    "i=0.2\n",
    "while i>0:\n",
    "    res=test(MultinomialNB(alpha=i))\n",
    "#     print(res)\n",
    "    if res>bac:\n",
    "        balpa=i\n",
    "        bac=res\n",
    "    i-=0.02\n",
    "print(balpa,\" \",bac,\"\\n\")"
   ]
  },
  {
   "cell_type": "code",
   "execution_count": 71,
   "metadata": {},
   "outputs": [
    {
     "name": "stdout",
     "output_type": "stream",
     "text": [
      "BernoulliNB(alpha=0.1, binarize=0.0, class_prior=None, fit_prior=True)\n",
      "accuracy: 0.6435209771640998\n",
      "BernoulliNB(alpha=0.09000000000000001, binarize=0.0, class_prior=None,\n",
      "            fit_prior=True)\n",
      "accuracy: 0.6456452469463622\n",
      "BernoulliNB(alpha=0.08000000000000002, binarize=0.0, class_prior=None,\n",
      "            fit_prior=True)\n",
      "accuracy: 0.6473712161444504\n",
      "BernoulliNB(alpha=0.07000000000000002, binarize=0.0, class_prior=None,\n",
      "            fit_prior=True)\n",
      "accuracy: 0.650292087095061\n",
      "BernoulliNB(alpha=0.06000000000000002, binarize=0.0, class_prior=None,\n",
      "            fit_prior=True)\n",
      "accuracy: 0.6524163568773235\n",
      "BernoulliNB(alpha=0.05000000000000002, binarize=0.0, class_prior=None,\n",
      "            fit_prior=True)\n",
      "accuracy: 0.6548061603823686\n",
      "BernoulliNB(alpha=0.040000000000000015, binarize=0.0, class_prior=None,\n",
      "            fit_prior=True)\n",
      "accuracy: 0.6589219330855018\n",
      "BernoulliNB(alpha=0.030000000000000013, binarize=0.0, class_prior=None,\n",
      "            fit_prior=True)\n",
      "accuracy: 0.6631704726500266\n",
      "BernoulliNB(alpha=0.02000000000000001, binarize=0.0, class_prior=None,\n",
      "            fit_prior=True)\n",
      "accuracy: 0.6684811471056824\n",
      "BernoulliNB(alpha=0.01000000000000001, binarize=0.0, class_prior=None,\n",
      "            fit_prior=True)\n",
      "accuracy: 0.6743228890069038\n",
      "BernoulliNB(alpha=1.0408340855860843e-17, binarize=0.0, class_prior=None,\n",
      "            fit_prior=True)\n"
     ]
    },
    {
     "name": "stderr",
     "output_type": "stream",
     "text": [
      "D:\\PyML\\lib\\site-packages\\sklearn\\naive_bayes.py:507: UserWarning: alpha too small will result in numeric errors, setting alpha = 1.0e-10\n",
      "  'setting alpha = %.1e' % _ALPHA_MIN)\n"
     ]
    },
    {
     "name": "stdout",
     "output_type": "stream",
     "text": [
      "accuracy: 0.7132235793945831\n",
      "1.0408340855860843e-17   0.7132235793945831 \n",
      "\n"
     ]
    }
   ],
   "source": [
    "balpa=0\n",
    "bac=0\n",
    "i=0.1\n",
    "while i>0:\n",
    "    res=test(BernoulliNB(alpha=i))\n",
    "#     print(res)\n",
    "    if res>bac:\n",
    "        balpa=i\n",
    "        bac=res\n",
    "    i-=0.01\n",
    "print(balpa,\" \",bac,\"\\n\")"
   ]
  },
  {
   "cell_type": "markdown",
   "metadata": {},
   "source": [
    "Можно заметить , что при должном подборе гипер параметров ,все методы выдают достойный результат "
   ]
  },
  {
   "cell_type": "code",
   "execution_count": null,
   "metadata": {},
   "outputs": [],
   "source": []
  }
 ],
 "metadata": {
  "kernelspec": {
   "display_name": "Python 3",
   "language": "python",
   "name": "python3"
  },
  "language_info": {
   "codemirror_mode": {
    "name": "ipython",
    "version": 3
   },
   "file_extension": ".py",
   "mimetype": "text/x-python",
   "name": "python",
   "nbconvert_exporter": "python",
   "pygments_lexer": "ipython3",
   "version": "3.7.7"
  }
 },
 "nbformat": 4,
 "nbformat_minor": 4
}
